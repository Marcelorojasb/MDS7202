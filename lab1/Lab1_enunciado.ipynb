{
  "cells": [
    {
      "cell_type": "markdown",
      "metadata": {
        "cell_id": "097fce6dce21405c911254a775ae3d26",
        "deepnote_cell_type": "markdown",
        "id": "J4_IcuuKZj9Y"
      },
      "source": [
        "<h1><center>Laboratorio 1: Git 👾</center></h1>\n",
        "\n",
        "<center><strong>MDS7202: Laboratorio de Programación Científica para Ciencia de Datos - Primavera 2023</strong></center>"
      ]
    },
    {
      "cell_type": "markdown",
      "metadata": {
        "cell_id": "9e8e8f2ae34e461da4f44508a96d2cf4",
        "deepnote_cell_type": "markdown",
        "id": "AEXIACc7aADv"
      },
      "source": [
        "### Cuerpo Docente:\n",
        "\n",
        "- Profesores: Ignacio Meza, Gabriel Iturra\n",
        "- Auxiliar: Sebastián Tinoco\n",
        "- Ayudante: Arturo Lazcano, Angelo Muñoz"
      ]
    },
    {
      "cell_type": "markdown",
      "metadata": {
        "cell_id": "3e5b48c23e1b48f6a64de41899166179",
        "deepnote_cell_type": "markdown",
        "id": "0HgMMyoCaG8X"
      },
      "source": [
        "### Equipo: SUPER IMPORTANTE - notebooks sin nombre no serán revisados\n",
        "\n",
        "- Nombre de alumno 1: Sebatián Sanhueza\n",
        "- Nombre de alumno 2: Marcelo Rojas B."
      ]
    },
    {
      "cell_type": "markdown",
      "metadata": {
        "cell_id": "1db7c82b68614d19b112ba3b0d0abe4d",
        "deepnote_cell_type": "markdown",
        "id": "fz77X6glaK6y"
      },
      "source": [
        "### **Link de repositorio de GitHub:** https://github.com/Marcelorojasb/MDS7202"
      ]
    },
    {
      "cell_type": "markdown",
      "metadata": {
        "cell_id": "bc3dac65089d4ae6a43c079547dee179",
        "deepnote_cell_type": "markdown",
        "id": "rRwqaxIZaNx3"
      },
      "source": [
        "## Reglas:\n",
        "\n",
        "- Fecha de entrega: 6 días desde la publicación, 3 días de atraso con 1 punto de descuento c/u. Pueden utilizar días bonus sin descuento.\n",
        "- **Grupos de 2 personas**\n",
        "- Asistencia **obligatoria** a instrucciones del lab (viernes 16.15). Luego, pueden quedarse trabajando en las salas o irse.\n",
        "- **Ausentes tienen nota máxima 6.0**.  \n",
        "- Cualquier duda fuera del horario de clases al foro. Mensajes al equipo docente serán respondidos por este medio.\n",
        "- <u>Prohibidas las copias</u>. Cualquier intento de copia será debidamente penalizado con el reglamento de la escuela.\n",
        "- Pueden usar cualquer material del curso que estimen conveniente.\n",
        "- Asistencia obligatoria a instrucciones del lab (viernes 16.15). Luego, pueden quedarse trabajando en las salas o irse."
      ]
    },
    {
      "cell_type": "markdown",
      "metadata": {
        "cell_id": "05e4729411a24153837fd13b7f198bd9",
        "deepnote_cell_type": "markdown",
        "id": "bmToL27JaSrf"
      },
      "source": [
        "## Objetivos del lab:\n",
        "\n",
        "\n",
        "- Conocer los elementos básicos que conformar `Git`\n",
        "- Clonar repositorios\n",
        "- Identificar ramas de un repositorio\n",
        "- Reconocer y solucionar problemas entre ramas\n",
        "- Subir cambios a un repositorio"
      ]
    },
    {
      "cell_type": "markdown",
      "metadata": {
        "cell_id": "5ebae9d601bd4d508349ab55297e9f82",
        "deepnote_cell_type": "markdown",
        "id": "bvnPCvrVbJLK"
      },
      "source": [
        "## Parte 1: Conocimiento Teórico (2.5 pts)\n",
        "\n",
        "<p align=\"center\">\n",
        "  <img src=\"https://cdn.thedesigninspiration.com/wp-content/uploads/sites/3/2019/04/macintosh-hdusersbrittanyloefflerdownloadsanig-1.gif\" width=\"350\">\n",
        "</p>"
      ]
    },
    {
      "cell_type": "markdown",
      "metadata": {
        "cell_id": "627494dba4f84520b3ee8b9cbf58ee79",
        "deepnote_cell_type": "markdown",
        "id": "JHl-24XnbNLF"
      },
      "source": [
        "Responda las siguientes preguntas (0.2 pts c/u):\n",
        "\n",
        "1. ¿Qué es `Git` y cómo se relaciona con el control de versiones?\n",
        "\n",
        "2. Nombre y explique 3 diferencias entre `Git` y `Github`.\n",
        "\n",
        "3. ¿Qué es un `hash` y cómo se representa en un `commit`? De un ejemplo.\n",
        "\n",
        "4. ¿Que elementos componen a la estructura de datos de `Git`?\n",
        "5. ¿Que comandos de `Git` sirven para crear un repositorio y hacer seguimiento a cambios en los archivos?"
      ]
    },
    {
      "cell_type": "markdown",
      "metadata": {
        "cell_id": "6d06c40f429044a298b27c666f51f46f",
        "deepnote_cell_type": "markdown",
        "id": "2tXCSkf0caG8"
      },
      "source": [
        "<code>Escriba sus respuestas acá:</code>\n",
        "1. Git es un sistema de control de versiones local. Es decir, se usa para gestionar los cambios o actualizaciones que se realicen en proyectos, principalmente de código.\n",
        "\n",
        "2.\n",
        "- Git es un software local, mientras que github es una aplicación web con servicios en la nube.\n",
        "- Git es una herramienta de línea de comandos, mientras que github posee una interfaz gráfica.\n",
        "-Git crea un repositorio local para trackear cambios locales, mientras que github es un espacio para subir copias de dichos repositorios locales.\n",
        "\n",
        "3. Los hashes son cadenas de caractéres alfanuméricos que permiten representar y etiquetar a los objetos almacenados en el repositorio. Cada objeto tiene su propio hash y este se crea dependiendo del contenido del objeto, al mínimo cambio en el objeto produce que se cree un nuevo hash completamente distinto. Asimismo, para cada commit registrado se le tiene asociado un hash, el cual hace el trabajo de un código de barras único, permitiendo visualizar el commint, volver a versiones anteriores, comparar commits, etc.\n",
        " Por ejemplo, supongamos que tenemos un archivo llamado \"archivo1.py\" en nuestro repositorio, est tiene un hash asociado al momento de haberle hecho un commint para almacenarlo en el repositorio local, si le realizamos un pequeño cambio y luego le volvemos a hacer un commit, se generará un nuevo hash para representar al archivo. Entonces a partir de los hash es posible hacer un seguimiento de estos cambios y la relación entre los commits anteriores.\n",
        "\n",
        "\n",
        "4.\n",
        "\n",
        "1) Ramas (branches) \\\\\n",
        "2) Commits \\\\\n",
        "3) Directorios \\\\\n",
        "4) Tags \\\\\n",
        "5) blobs \\\\\n",
        "6) árbol\n",
        "\n",
        "5.\n",
        "1) Inicializar repositorio: git init (usar git branch -M main después para renombrar la rama si es que se llama master) \\\\\n",
        "2) Añadir archivos al repositorio: git add . \\\\\n",
        "3) Hacer el commit en el repositorio local de los archivos añadidos: git commit -m \"First commit\" \\\\\n",
        "4) Seguimiento estado actual: git status \\\\\n",
        "5) Seguimiento histórico de cambios: git log \\\\\n",
        "6) Enlazar repositorio local con repositorio en github: git remote add origin REMOTE_URL \\\\\n",
        "7) Subir cambios desde el repo local a github: git push -u origin main\n"
      ]
    },
    {
      "cell_type": "markdown",
      "metadata": {
        "cell_id": "ec9855406e324cc98b59e33500faea84",
        "deepnote_cell_type": "markdown",
        "id": "MACccbP4gU43"
      },
      "source": [
        "Responda si las siguientes afirmaciones son Verdaderas (V) o Falsas (F). Justifique en **cualquiera** de los casos (0.2 pts c/u):\n",
        "\n",
        "\n",
        "6. `Git` siempre resuelve automáticamente los problemas de lineas al hacer merge entre diferentes ramas.\n",
        "\n",
        "7. Ejecutar `git pull` sobre un repositorio es equivalente a ejecutar `git\n",
        "clone`.\n",
        "\n",
        "8. `git status` genera los mismos resultados que `git log`.\n",
        "\n",
        "9. En `Git` es posible deshacer cambios y volver a versiones anteriores del código.\n",
        "10. El comando `git commit` se utiliza para enviar cambios al repositorio remoto."
      ]
    },
    {
      "cell_type": "markdown",
      "metadata": {
        "cell_id": "7e6a5a6e15b045cc9d104cf017825f1a",
        "deepnote_cell_type": "markdown",
        "id": "DFnmCToOgeM3"
      },
      "source": [
        "<code>Escriba sus respuestas acá:</code>\n",
        "6. Falso. Cuando se intenta fusionar ramas en Git y hay cambios en las mismas líneas de un archivo en ambas ramas, se produce un conflicto.\n",
        "\n",
        "7. Falso, git `git pull` se usa para trear cambios realizados al repositorio (teniendo ya el repositorio en el dispositivo local), mientras que `git\n",
        "clone` se usa para copiar por primera vez un repositorio al dispositivo local.\n",
        "\n",
        "8. Falso. `git status` enumera los archivos que se han preparado, los que están sin preparar y los archivos sin seguimiento. solo muestra el historial confirmado.\n",
        "\n",
        "9. Verdadero. git reset permite volver al commit anterior eliminando los commits posteriores\n",
        "\n",
        "10. Falso. Para eso se usa git push"
      ]
    },
    {
      "cell_type": "markdown",
      "metadata": {
        "cell_id": "54317cad024744ebaf4938df55ba3b95",
        "deepnote_cell_type": "markdown",
        "id": "TorWk1k42crA"
      },
      "source": [
        "Por último, investigue y comente para qué sirven los siguientes comandos:\n",
        "\n",
        "11. `git stash` Se utiliza para guardar temporalmente cambios no comprometidos en una pila (stash) para que puedas cambiar de rama, realizar otras tareas o resolver conflictos sin tener que comprometer los cambios en progreso. (0.25 puntos)\n",
        "12. `git reset`. ¿Cuál es la diferencia de este comando con `git revert`?. (0.25 puntos) \\\\\n",
        "`git reset` permite volver al commit anterior eliminando los commits posteriores.\n",
        "Mientras que `git revert` se utiliza en Git para crear un nuevo commit que deshace los cambios introducidos por un commit específico, mientras mantiene el historial de cambios intacto. En otras palabras, se utiliza para deshacer cambios de confirmaciones anteriores de una manera segura y conservadora, sin eliminar la historia de esos cambios.\n",
        "\n",
        "\n"
      ]
    },
    {
      "cell_type": "markdown",
      "metadata": {
        "cell_id": "3e4d8b9974e4426ca38fd20f4b835a55",
        "deepnote_cell_type": "markdown",
        "id": "i7Em9JkbbRLo"
      },
      "source": [
        "## Parte 2: Creando una presentación personal (1.5 pts)\n",
        "\n",
        "<p align=\"center\">\n",
        "  <img src=\"https://media.tenor.com/arqlNu8gyJYAAAAC/cat-cat-jumping.gif\" width=\"150\">\n",
        "</p>\n",
        "\n"
      ]
    },
    {
      "cell_type": "markdown",
      "metadata": {
        "cell_id": "988648005dba4b9782c6625dfe6ae4ef",
        "deepnote_cell_type": "markdown",
        "id": "XWIHfyrlbYOJ"
      },
      "source": [
        "Para empezar a \"*soltar las manos*\" con `Git`, se les encomienda crear un repositorio con una presentación personal. El repositorio debe contener un breve resumen de quienes son ustedes, sus gustos, experiencias, y cualquier otro detalle interesante que ustedes consideren relevante.\n",
        "\n",
        "Para realizar esto, deben seguir los siguientes pasos:\n",
        "\n",
        "1. Contar con una cuenta de github (1 por persona)\n",
        "2. Crear un repositorio con su nombre de usuario\n",
        "3. Vincular el repositorio a su ambiente local ¿Qué comando(s) me permiten hacer esto?\n",
        "4. Crear un archivo `readme.md` con la información que ustedes deseen compartir.\n",
        "5. Realizar `push` con los cambios generados\n",
        "\n",
        "A modo de ejemplo, pueden guiarse por esta *suculenta* [presentación](https://github.com/Mezosky)\n",
        "\n",
        "**Nota: Deben trabajar todos estos puntos desde su ambiente local**\n",
        "\n",
        "*Hint: Una buena opción es usar templates de presentación personal que encuentren en Google, como los que ofrece este [sitio](https://durgeshsamariya.github.io/awesome-github-profile-readme-templates/#/)*.\n",
        "\n",
        "**Entregable:**\n",
        "\n",
        "Enlace al repositorio con la presentación personal.\n",
        "\n",
        "IMPORTANTE: DEBEN ADJUNTAR UN ENLACE POR PERSONA"
      ]
    },
    {
      "cell_type": "markdown",
      "metadata": {
        "cell_id": "081b38d55dc54282bc8e3cd300ce9d3e",
        "deepnote_cell_type": "markdown",
        "id": "IIkWyl9tf0Sg"
      },
      "source": [
        "<code>Link Presentacion 1: https://github.com/Marcelorojasb/Marcelorojasb</code>\n",
        "\n",
        "<code>Link Presentacion 2:https://github.com/sebastiansanhuezao</code>"
      ]
    },
    {
      "cell_type": "markdown",
      "metadata": {
        "cell_id": "0481a05d2d1a46928f6cfb7762720980",
        "deepnote_cell_type": "markdown",
        "id": "CAzXOwvDY-IG"
      },
      "source": [
        "## Parte 3: Trabajando sobre un repositorio externo (2 pts)\n",
        "\n",
        "<p align=\"center\">\n",
        "  <img src=\"https://media.tenor.com/YXL-0SK15j4AAAAC/dance-animals.gif\" width=\"300\">\n",
        "</p>\n",
        "\n",
        "Tras muchos dolores de cabeza, un grupo de entusiastas académicos decidieron aprender sobre `Git` y así trabajar colaborativamente de forma más ordenada y eficiente. Después de una infinidad de intentos y aprender de sus errores \"*a la mala*\", los académicos lograron levantar un [repositorio](https://github.com/MDS7202/lab1) en `Github`. Usando el repositorio de los académicos, responda las siguientes preguntas (**incluya también los comandos en `Git` ocupados**):\n"
      ]
    },
    {
      "cell_type": "markdown",
      "metadata": {
        "cell_id": "bcef73b2e8604579bde90ed6622abfe9",
        "deepnote_cell_type": "markdown",
        "id": "BFRnAw0rfguR"
      },
      "source": [
        "1. Clone el repositorio a su ambiente local. (0.25 pts)"
      ]
    },
    {
      "cell_type": "markdown",
      "metadata": {
        "cell_id": "5d126ac3819c44479af94d3895bc4c97",
        "deepnote_cell_type": "markdown",
        "id": "KXro32yBeilN"
      },
      "source": [
        "<code>Comando utilizado: git clone https://github.com/MDS7202/lab1.git</code>"
      ]
    },
    {
      "cell_type": "markdown",
      "metadata": {
        "cell_id": "e215e4e25b2440f09ac273ba63603986",
        "deepnote_cell_type": "markdown",
        "id": "m7XVbBQo2crB"
      },
      "source": [
        "2. Descomprima los archivos subidos con la tarea en U-cursos en la carpeta recién clonada de github. Una vez realizado esto, cree un archivo `.gitignore` con el cual omita la carpeta `videos` y los archivos con la extensión `.txt` exceptuando el archivo `171.txt` de la carpeta `texts`. (0.25 pts)"
      ]
    },
    {
      "cell_type": "markdown",
      "metadata": {
        "cell_id": "186233b44d004e3bbd86262d010188b5",
        "deepnote_cell_type": "markdown",
        "id": "WE0PUNwc2crB"
      },
      "source": [
        "<code>Para esta pregunta usted deberá adjuntar el .gitignore creado en su repo.</code>"
      ]
    },
    {
      "cell_type": "markdown",
      "metadata": {
        "cell_id": "1de150590a41484a988b8e46616a2324",
        "deepnote_cell_type": "markdown",
        "id": "q2qmiDyjt2M_"
      },
      "source": [
        "3. Inspeccione brevemente el repositorio: ¿Cual es el objetivo del proyecto? Explique brevemente la estructura del proyecto, asi como también cada elemento que lo conforma. (0.25 pts)"
      ]
    },
    {
      "cell_type": "markdown",
      "metadata": {
        "cell_id": "082ca01c865e48e28352b280400c47b6",
        "deepnote_cell_type": "markdown",
        "id": "aBHpR8VTftkT"
      },
      "source": [
        "<code>Escriba sus respuestas acá:</code>\n",
        "\n",
        "El objetivo del proyecto es responder que sonido hace un animal. El archivo animales.py tiene la función animales que recibe un el nombre de un animal en un string (\"gato\",\"perro\",\"fox\") y responde en la consola con el sonido del animal. El programa se ejecuta mediante el archivo main.py. También posee un readme.md que explica el objetivo del proyecto."
      ]
    },
    {
      "cell_type": "markdown",
      "metadata": {
        "cell_id": "3aab4a3ee0c246e1be955680ad653fb8",
        "deepnote_cell_type": "markdown",
        "id": "XFwqcpLZfylf"
      },
      "source": [
        "4. Identifique los últimos cambios al repositorio, reconociendo las principales ramas de trabajo. ¿Son informativos los `commit` realizados? (0.25 pts)\n",
        "*Hint: Se recomienda usar los argumentos `all`, `graph` y `decorate`*"
      ]
    },
    {
      "cell_type": "markdown",
      "metadata": {
        "cell_id": "0fab79a360ac4c6a9ca0ab884f85c7e1",
        "deepnote_cell_type": "markdown",
        "id": "cmWfXBkOhog0"
      },
      "source": [
        "<code>Escriba sus respuestas acá:</code>\n",
        "\n",
        "Los comandos utilizado fueron:\n",
        "\n",
        "<code>git log --all</code>\n",
        "\n",
        "<code>git log --graph</code>\n",
        "\n",
        "<code>got log --decorate</code>\n",
        "\n",
        "A partir de estos comandos se pudieron identificar un total de 3 ramas, la rama master o \"main\", la rama \"new_features\" y la rama \"fix ifs\". Por otra parte, se realizaron un total de 4 commits, siendo el tercero el asociado a los cambios realizados en la rama \"new_features\", en la cual se realizó una separación en módulos del proyecto, estos cambios se lograron unir a la rama \"main\" y por lo mismo ambas ramas presentan los mismos archivos del proyecto. Asimismo, el último commit se realizó en la rama \"fix ifs\" en la cual se realizó un ajuste de los comandos \"if\" presentes en el código, sin embargo estos cambios no se les aplicó \"merge\" a la rama \"main\".\n",
        "\n",
        "Si bien alguien que se maneja en el lenguaje de comandos de Git podría entender más rápido lo que se realiza en cada commit, creemos que la información entregada en los comentarios de cada commit fue insuficiente, por ejemplo, en el segundo commit se comentó \"se agrega funcion\", lo cual es una información bastante ambigüa, ya que no se indicó el nombre de la función que se creó o detalles acerca de esta. Asimismo, en el tercer commit se comenta \"Se separa el proyecto en modulos\", lo cual informa una separación del código del proyecto, pero no se indica que funciones o los nombres de los nuevos módulos. Por último, en el último commit se comentó \"fix ifs\", lo cual creemos que no informa demasiado acerca de los cambios, ya que también es el nombre de la rama, asi como también no indica que ajustes se le hicieron a los comandos \"if.\"\n",
        "\n",
        "\n"
      ]
    },
    {
      "cell_type": "markdown",
      "metadata": {
        "cell_id": "d07b24d21f2343fb9a7e6a5db74e98c3",
        "deepnote_cell_type": "markdown",
        "id": "Vqbj9HdXrUnN"
      },
      "source": [
        "5. Uno de los académicos se da cuenta que la rama principal de trabajo no se ejecuta correctamente para todos los argumentos. Señale y explique el error en el código e identifique a la persona que lo cometió usando `git blame` (0.25 pts)\n",
        "\n",
        "*Hint: Le puede ser útil esta [documentación](https://www.atlassian.com/es/git/tutorials/inspecting-a-repository/git-blame).*"
      ]
    },
    {
      "cell_type": "markdown",
      "metadata": {
        "cell_id": "bc5b0f9c639643108f8e66687b721732",
        "deepnote_cell_type": "markdown",
        "id": "5ajhV2Iar3tV"
      },
      "source": [
        " <code>Escriba sus respuestas acá:</code>\n",
        " Si usamos git blame -C animales.py (el argumento \"-C\" detecta las líneas que se han movido o copiado desde otros archivos) se puede notar que existe un error en los if, pues al ser condiciones excluyentes, se debe usar elif. Con el código actual de animales.py, cuando un aminal no sea \"fox\", el programa responderá con un \"animal no reconocido\" aun cuando se le pregunte por \"gato\" (responderá \"miau\" y luego \"animal no reconocido\") o por perro (responderá \"guau\" y luego \"animal no reconocido\"). El comando blame muestra que el que cometió el error fue seba:\n",
        "\n",
        "\n",
        "<code>c8b1a62d main.py (seba 2023-03-22 17:28:19 -0300  7)     if input.lower() == 'gato': \\\\\n",
        "c8b1a62d main.py (seba 2023-03-22 17:28:19 -0300  8)         print('miau') \\\\\n",
        "c8b1a62d main.py (seba 2023-03-22 17:28:19 -0300  9)     if input.lower() == 'perro': \\\\\n",
        "c8b1a62d main.py (seba 2023-03-22 17:28:19 -0300 10)         print('guau') \\\\\n",
        "c8b1a62d main.py (seba 2023-03-22 17:28:19 -0300 11)     if input.lower() == 'fox': \\\\\n",
        "c8b1a62d main.py (seba 2023-03-22 17:28:19 -0300 12)         print('https://www.youtube.com/watch?v=jofNR_WkoCE')</code>"
      ]
    },
    {
      "cell_type": "markdown",
      "metadata": {
        "cell_id": "f3f4e78e6d9145ebbb120c0a2e4aade6",
        "deepnote_cell_type": "markdown",
        "id": "m8J3uE7MhqTA"
      },
      "source": [
        "6. Busque los siguientes `commit`:\n",
        "\n",
        "- `c8b1a62d7299552b0654f930d695b33109214111`\n",
        "- `362fe21ee44f53ee944cee4ba484600308f83d78`\n",
        "- `25543a3baf77292baf849726784ca005473acab1`\n",
        "\n",
        "¿Qué diferencias existen entre cada uno? (0.25 pts)"
      ]
    },
    {
      "cell_type": "markdown",
      "metadata": {
        "cell_id": "696ed361ac0c41c8a214cfad9dcb39e6",
        "deepnote_cell_type": "markdown",
        "id": "sNHnZsgIitGh"
      },
      "source": [
        "<code>Escriba sus respuestas acá:</code>\n",
        "Usando el comando <code>git diff commit1 commit2</code> se obtuvieron las diferencias entre los commits.\n",
        "\n",
        "- Entre el commit `c8b1a62d7299552b0654f930d695b33109214111` y `362fe21ee44f53ee944cee4ba484600308f83d78`: En el commit `c8b1a62d7299552b0654f930d695b33109214111` no existe el archivo animales.py, pues en este commit esta todo en el archivo main.py, es decir, no hay separación de modulos, mientras que en el commit `362fe21ee44f53ee944cee4ba484600308f83d78` si hay.\n",
        "\n",
        "- Entre el commit `c8b1a62d7299552b0654f930d695b33109214111` y `25543a3baf77292baf849726784ca005473acab1`: Se puede ver que en el commit `25543a3baf77292baf849726784ca005473acab1` se usa `elif` en las condiciones, mientras que en el commit `c8b1a62d7299552b0654f930d695b33109214111` se usa `if`.\n",
        "\n",
        "- Entre el commit `362fe21ee44f53ee944cee4ba484600308f83d78` y `25543a3baf77292baf849726784ca005473acab1`: En el commit `25543a3baf77292baf849726784ca005473acab1` no existe el archivo animales.py, pues en este commit esta todo en el archivo main.py, es decir, no hay separación de modulos, mientras que en el commit `362fe21ee44f53ee944cee4ba484600308f83d78` si hay. Además, en el commit `362fe21ee44f53ee944cee4ba484600308f83d78` se `if` mientras que en el commit `25543a3baf77292baf849726784ca005473acab1` se usa `elif`."
      ]
    },
    {
      "cell_type": "markdown",
      "metadata": {
        "cell_id": "b4e18f8ce94c430f85915c4e2732d05b",
        "deepnote_cell_type": "markdown",
        "id": "WQIPbfNCgpxC"
      },
      "source": [
        "7. Realice una `merge` de la rama `fix-ifs` con la rama `main` y describa lo que ocurre. ¿Qué parte del código podría estar ocasionando esto? (0.25 pts)"
      ]
    },
    {
      "cell_type": "markdown",
      "metadata": {
        "cell_id": "36da6a0d4f4a427bbccac09e2ae965fd",
        "deepnote_cell_type": "markdown",
        "id": "ypH_6lL5ioZz"
      },
      "source": [
        "<code>Escriba sus respuestas acá:</code>\n",
        "Entrega el siguiente error:\n",
        "\n",
        "<code>Auto-fusionando main.py\n",
        "CONFLICTO (contenido): Conflicto de fusión en `main.py`\n",
        "Fusión automática falló; arregle los conflictos y luego realice un commit con el resultado.</code>\n",
        "\n",
        "Este conflicto se genera por que los cambios en la rama `fix-ifs`, se hicieron en una versión anterior a la actual en rama `main`. Específicamente, el error se produce en la separación de módulos, puesto que git no es capaz de identificar que los cambios en el archivo `main.py` de la rama `fix-ifs` (donde se cambiaron `ifs` por `elifs`) en realidad se debe hacer en el archivo `animales.py`."
      ]
    },
    {
      "cell_type": "markdown",
      "metadata": {
        "cell_id": "09787ab449c543479e5cc54c2a3b6c19",
        "deepnote_cell_type": "markdown",
        "id": "GYfODCjeivkU"
      },
      "source": [
        "8. Cree una rama nueva y proponga una solución al problema anterior, adjuntando el código corregido y señalando las líneas modificadas. (0.25 pts)"
      ]
    },
    {
      "cell_type": "markdown",
      "metadata": {
        "cell_id": "6d963fba3f2d4c17a4b281c7d3f4fb8b",
        "deepnote_cell_type": "markdown",
        "id": "8heBxDU9iziT"
      },
      "source": [
        "<code>Escriba sus respuestas acá:</code>\n",
        "La solución propuesta fue:\n",
        "1. Crear una nueva rama con: `git branch fix_del_fix`.\n",
        "2. Moverse a la rama creada con: `git checkout fix_del_fix`.\n",
        "3. Modificar las lineas de código, específicamente las líneas 9 y 11 cambiando los `if` por `elif`.\n",
        "4. Añadir cambios con `git add .`\n",
        "5. Realizar el commit a la rama `fix_del_fix` con `git commit -m \"Solución al problema rama fix-ifs\"`\n",
        "6. Moverse a la rama creada con: `git checkout main`.\n",
        "7. Hacer el merge con `git merge fix_del_fix`"
      ]
    },
    {
      "cell_type": "markdown",
      "metadata": {
        "cell_id": "8a47d4bf8b3045d68e4f29bb449c87f1",
        "deepnote_cell_type": "markdown",
        "id": "Av8ebB9jkALO"
      },
      "source": [
        "## Fin"
      ]
    },
    {
      "cell_type": "markdown",
      "metadata": {
        "cell_id": "cec4b53942ed489f8f8b63d0e9d4f3e5",
        "deepnote_cell_type": "markdown",
        "id": "aQqZT9fSkBK8"
      },
      "source": [
        "Eso ha sido todo por ahora!! Esperamos que este laboratorio les haya gustado y servido para trabajar con `Git`. Recuerden los dias de plazo que tienen disponibles y que ante cualquier duda no duden en contactar al equipo docente.\n",
        "\n",
        "Nos vemos!!\n",
        "\n",
        "<p align=\"center\">\n",
        "  <img src=\"https://media.tenor.com/OYLdav9k9LkAAAAd/kitty-cat.gif\" width=\"350\">\n",
        "</p>\n"
      ]
    },
    {
      "cell_type": "markdown",
      "metadata": {
        "created_in_deepnote_cell": true,
        "deepnote_cell_type": "markdown",
        "id": "k27K6lTC2crD"
      },
      "source": [
        "<a style='text-decoration:none;line-height:16px;display:flex;color:#5B5B62;padding:10px;justify-content:end;' href='https://deepnote.com?utm_source=created-in-deepnote-cell&projectId=87110296-876e-426f-b91d-aaf681223468' target=\"_blank\">\n",
        "<img alt='Created in deepnote.com' style='display:inline;max-height:16px;margin:0px;margin-right:7.5px;' src='data:image/svg+xml;base64,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' > </img>\n",
        "Created in <span style='font-weight:600;margin-left:4px;'>Deepnote</span></a>"
      ]
    }
  ],
  "metadata": {
    "colab": {
      "provenance": []
    },
    "deepnote": {},
    "deepnote_execution_queue": [],
    "deepnote_notebook_id": "62cd20d52b9a4810ada15644630456dc",
    "kernelspec": {
      "display_name": "Python 3",
      "name": "python3"
    },
    "language_info": {
      "name": "python"
    }
  },
  "nbformat": 4,
  "nbformat_minor": 0
}